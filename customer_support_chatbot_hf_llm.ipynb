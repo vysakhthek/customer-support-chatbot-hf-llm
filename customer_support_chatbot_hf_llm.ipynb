{
  "nbformat": 4,
  "nbformat_minor": 0,
  "metadata": {
    "colab": {
      "provenance": [],
      "gpuType": "T4"
    },
    "kernelspec": {
      "name": "python3",
      "display_name": "Python 3"
    },
    "language_info": {
      "name": "python"
    },
    "accelerator": "GPU"
  },
  "cells": [
    {
      "cell_type": "code",
      "execution_count": 1,
      "metadata": {
        "colab": {
          "base_uri": "https://localhost:8080/"
        },
        "id": "wnww5bZYpr2L",
        "outputId": "6f3edc80-7eef-46c1-b25b-6974487deb09"
      },
      "outputs": [
        {
          "output_type": "stream",
          "name": "stdout",
          "text": [
            "Thu Aug 24 03:13:23 2023       \n",
            "+-----------------------------------------------------------------------------+\n",
            "| NVIDIA-SMI 525.105.17   Driver Version: 525.105.17   CUDA Version: 12.0     |\n",
            "|-------------------------------+----------------------+----------------------+\n",
            "| GPU  Name        Persistence-M| Bus-Id        Disp.A | Volatile Uncorr. ECC |\n",
            "| Fan  Temp  Perf  Pwr:Usage/Cap|         Memory-Usage | GPU-Util  Compute M. |\n",
            "|                               |                      |               MIG M. |\n",
            "|===============================+======================+======================|\n",
            "|   0  Tesla T4            Off  | 00000000:00:04.0 Off |                    0 |\n",
            "| N/A   41C    P8     9W /  70W |      0MiB / 15360MiB |      0%      Default |\n",
            "|                               |                      |                  N/A |\n",
            "+-------------------------------+----------------------+----------------------+\n",
            "                                                                               \n",
            "+-----------------------------------------------------------------------------+\n",
            "| Processes:                                                                  |\n",
            "|  GPU   GI   CI        PID   Type   Process name                  GPU Memory |\n",
            "|        ID   ID                                                   Usage      |\n",
            "|=============================================================================|\n",
            "|  No running processes found                                                 |\n",
            "+-----------------------------------------------------------------------------+\n"
          ]
        }
      ],
      "source": [
        "!nvidia-smi"
      ]
    },
    {
      "cell_type": "code",
      "source": [
        "!pip install -Uqqq pip --progress-bar off\n",
        "!pip install -qqq langchain==0.0.228 --progress-bar off\n",
        "!pip install -qqq chromadb==0.3.26 --progress-bar off\n",
        "!pip install -qqq sentence-transformers==2.2.2 --progress-bar off\n",
        "!pip install -qqq auto-gptq==0.2.2 --progress-bar off\n",
        "!pip install -qqg einops==0.6.1 --progress-bar off\n",
        "!pip install -qqq unstructured==0.8.0 --progress-bar off\n",
        "!pip install -qqq transformers==4.30.2 --progress-bar off\n",
        "!pip install -qqq torch==2.0.1 --progress-bar off\n"
      ],
      "metadata": {
        "id": "Yj08_ra39xXn",
        "colab": {
          "base_uri": "https://localhost:8080/"
        },
        "outputId": "180af74c-460d-4dc9-b43d-523ad5f0802c"
      },
      "execution_count": 2,
      "outputs": [
        {
          "output_type": "stream",
          "name": "stdout",
          "text": [
            "\u001b[33mWARNING: Running pip as the 'root' user can result in broken permissions and conflicting behaviour with the system package manager. It is recommended to use a virtual environment instead: https://pip.pypa.io/warnings/venv\u001b[0m\u001b[33m\n",
            "\u001b[0m\u001b[33mWARNING: Running pip as the 'root' user can result in broken permissions and conflicting behaviour with the system package manager. It is recommended to use a virtual environment instead: https://pip.pypa.io/warnings/venv\u001b[0m\u001b[33m\n",
            "\u001b[0m\u001b[33mWARNING: Running pip as the 'root' user can result in broken permissions and conflicting behaviour with the system package manager. It is recommended to use a virtual environment instead: https://pip.pypa.io/warnings/venv\u001b[0m\u001b[33m\n",
            "\u001b[0m\u001b[33mWARNING: Running pip as the 'root' user can result in broken permissions and conflicting behaviour with the system package manager. It is recommended to use a virtual environment instead: https://pip.pypa.io/warnings/venv\u001b[0m\u001b[33m\n",
            "\u001b[0m\u001b[33mWARNING: Running pip as the 'root' user can result in broken permissions and conflicting behaviour with the system package manager. It is recommended to use a virtual environment instead: https://pip.pypa.io/warnings/venv\u001b[0m\u001b[33m\n",
            "\u001b[0m\n",
            "Usage:   \n",
            "  pip install [options] <requirement specifier> [package-index-options] ...\n",
            "  pip install [options] -r <requirements file> [package-index-options] ...\n",
            "  pip install [options] [-e] <vcs project url> ...\n",
            "  pip install [options] [-e] <local project path> ...\n",
            "  pip install [options] <archive url/path> ...\n",
            "\n",
            "no such option: -g\n",
            "\u001b[33mWARNING: Running pip as the 'root' user can result in broken permissions and conflicting behaviour with the system package manager. It is recommended to use a virtual environment instead: https://pip.pypa.io/warnings/venv\u001b[0m\u001b[33m\n",
            "\u001b[0m\u001b[33mWARNING: Running pip as the 'root' user can result in broken permissions and conflicting behaviour with the system package manager. It is recommended to use a virtual environment instead: https://pip.pypa.io/warnings/venv\u001b[0m\u001b[33m\n",
            "\u001b[0m\u001b[33mWARNING: Running pip as the 'root' user can result in broken permissions and conflicting behaviour with the system package manager. It is recommended to use a virtual environment instead: https://pip.pypa.io/warnings/venv\u001b[0m\u001b[33m\n",
            "\u001b[0m"
          ]
        }
      ]
    },
    {
      "cell_type": "code",
      "source": [
        "from pathlib import Path\n",
        "\n",
        "import torch\n",
        "from auto_gptq import AutoGPTQForCausalLM\n",
        "from langchain.chains import ConversationalRetrievalChain\n",
        "from langchain.chains.question_answering import load_qa_chain\n",
        "from langchain.document_loaders import DirectoryLoader\n",
        "from langchain.embeddings import HuggingFaceEmbeddings\n",
        "from langchain.llms import HuggingFacePipeline\n",
        "from langchain.memory import ConversationBufferMemory\n",
        "from langchain.prompts import PromptTemplate\n",
        "from langchain.text_splitter import CharacterTextSplitter\n",
        "from langchain.vectorstores import Chroma\n",
        "from transformers import AutoTokenizer, GenerationConfig, TextStreamer, pipeline"
      ],
      "metadata": {
        "id": "RS8Pcwsq-HXy"
      },
      "execution_count": 3,
      "outputs": []
    },
    {
      "cell_type": "code",
      "source": [
        "questions_dir = Path(\"skyscanner\")\n",
        "questions_dir.mkdir(exist_ok=True, parents=True)\n",
        "\n",
        "def write_file(question, answer, file_path):\n",
        "  text = f\"\"\"\n",
        "Q: {question}\n",
        "A: {answer}\n",
        "\"\"\".strip()\n",
        "  with Path(questions_dir / file_path).open(\"w\") as text_file:\n",
        "    text_file.write(text)\n"
      ],
      "metadata": {
        "id": "nWkpVwFE-8iy"
      },
      "execution_count": 4,
      "outputs": []
    },
    {
      "cell_type": "code",
      "source": [
        "write_file(\n",
        "    question=\"How do I search for flights on Skyscanner?\",\n",
        "    answer=\"\"\"\n",
        "We know you're looking for the best prices and maximum flexibility to choose the right flight.\n",
        "\n",
        "To start your search, click here to head back to Skyscanner's search pages. Enter the departure country, city or airport in the From text field, the destination country, city or airport in the To text field and your travel dates in the Depart and Return text fields, and click Search. A list of flights will appear.\n",
        "\n",
        "When you've seen a suitable flight for your needs, you can click on Select, and we'll show you a list of airlines and travel agencies so you can book directly with them.\n",
        "\n",
        "Smart search filters, such as number of stops and departure time, help you find the perfect flight. Plus, we've got many tips and tricks to help you save more. Please visit our Travel Blog page to find out more.\n",
        "\n",
        "If you're looking for inspiration for your next trip, why not try our everywhere feature, which helps you see endless destinations, at every price, from thousands of travel sites in one place?\n",
        "\"\"\".strip(),\n",
        "    file_path=\"question_1.txt\"\n",
        ")"
      ],
      "metadata": {
        "id": "SeBAfXviA5jH"
      },
      "execution_count": 5,
      "outputs": []
    },
    {
      "cell_type": "code",
      "source": [
        "write_file(\n",
        "    question=\"What are mash-ups?\",\n",
        "    answer=\"\"\"\n",
        "These are routes where you fly with different airlines, because it’s cheaper than booking with just one. For example:\n",
        "\n",
        "If you wanted to fly London to New York, we might find it’s cheaper to fly out with British Airways and back with Virgin Atlantic, rather than buy a return ticket with one airline. This is called a ‘sum-of-one-way’ mash-up. Just in case you’re interested.\n",
        "\n",
        "Another kind of mash-up is what we call a ‘self-transfer’ or a ‘non-protected transfer’. For example:\n",
        "\n",
        "If you wanted to fly London to Sydney, we might find it’s cheaper to fly London to Dubai with Emirates, and then Dubai to Sydney with Qantas, rather than booking the whole route with one airline.\n",
        "\n",
        "Pretty simple, right?\n",
        "\n",
        "However, what’s really important to bear in mind is that mash-ups are NOT codeshares. A codeshare is when the airlines have an alliance. If anything goes wrong with the route — a delay, say, or a strike — those airlines will help you out at no extra cost. But mash-ups DO NOT involve an airline alliance. So if something goes wrong with a mash-up, it could cost you more money.\n",
        "\"\"\".strip(),\n",
        "    file_path=\"question_2.txt\"\n",
        ")"
      ],
      "metadata": {
        "id": "00srnfMADnzp"
      },
      "execution_count": 6,
      "outputs": []
    },
    {
      "cell_type": "code",
      "source": [
        "write_file(\n",
        "    question=\"Why have I been blocked from accessing the Skyscanner website?\",\n",
        "    answer=\"\"\"\n",
        "Skyscanner’s websites are scraped by bots many millions of times a day which has a detrimental effect on the service we’re able to provide. To prevent this, we use a bot blocking solution which checks to ensure you’re using the website in a normal manner.\n",
        "\n",
        "Occasionally, this may mean that a genuine user may be wrongly flagged as a bot. This can be for a number of potential reasons, including, but not limited to:\n",
        "\n",
        "You’re using a VPN which we have had to block due to excessive bot traffic in the past\n",
        "You’re using our website at super speed which manages to beat our rate limits\n",
        "You have a plug-in on your browser which could be interfering with how our website interacts with you as a user\n",
        "You’re using an automated browser\n",
        "If you've been blocked during normal use, please send us your IP address (this website may help: http://www.whatismyip.com/), the website you’re accessing (e.g. www.skyscanner.net) and the date/time this happened, via the Contact Us button below and we’ll look into it as quickly as possible.\n",
        "\"\"\".strip(),\n",
        "    file_path=\"question_3.txt\"\n",
        ")"
      ],
      "metadata": {
        "id": "7xu237Y1ET6U"
      },
      "execution_count": 7,
      "outputs": []
    },
    {
      "cell_type": "code",
      "source": [
        "write_file(\n",
        "    question=\"Where is my booking confirmation?\",\n",
        "    answer=\"\"\"\n",
        "You should get a booking confirmation by email from the company you bought your travel from. This can sometimes go into your spam/junk mail folder so it's always worth checking there.\n",
        "\n",
        "If you still can't find it, it's worth getting in touch with the company you bought from to find out what's going on.\n",
        "\n",
        "To find out who you need to contact, check the company name next to the charge on your bank account.\n",
        "\"\"\".strip(),\n",
        "    file_path=\"question_4.txt\"\n",
        ")"
      ],
      "metadata": {
        "id": "hE98O0-NFVk5"
      },
      "execution_count": 8,
      "outputs": []
    },
    {
      "cell_type": "code",
      "source": [
        "write_file(\n",
        "    question=\"How do I change or cancel my booking?\",\n",
        "    answer=\"\"\"\n",
        "For all questions about changes, cancellations, and refunds – as well as all other questions about bookings – you'll need to contact the company you bought travel from. They'll have all the info about your booking and can advise you.\n",
        "\n",
        "You'll find 1000s of travel agencies, airlines, hotels and car hire companies that you can buy from through our site and app. When you buy from one of these travel partners, they will take your payment (you'll see their name on your bank or credit card statement), contact you to confirm your booking, and provide any help or support you might need.\n",
        "\n",
        "If you bought from one of these partners, you'll need to contact them as they have all the info about your booking. We unfortunately don't have any access to bookings you made with them.\n",
        "\"\"\".strip(),\n",
        "    file_path=\"question_5.txt\"\n",
        ")"
      ],
      "metadata": {
        "id": "at5pRQT1GTU5"
      },
      "execution_count": 9,
      "outputs": []
    },
    {
      "cell_type": "code",
      "source": [
        "write_file(\n",
        "    question=\"I booked the wrong dates / times\",\n",
        "    answer=\"\"\"\n",
        "If you have found that you have booked the wrong dates or times, please contact the airline or travel agent that you booked your flight with as they will be able to help you change your flights to the intended dates or times.\n",
        "\n",
        "The search box below can help you find the contact details for the travel provider you booked with.\n",
        "\n",
        "You can search flexible or specific dates on Skyscanner to find your preferred flight, and when you select a flight on Skyscanner you are transferred to the website where you will make and pay for your booking. Once you are redirected to the airline or travel agent website, you might be required to select dates again, depending on the website. In all cases, you will be shown the flight details of your selection and you are required before confirming payment to state that you have checked all details and agreed to the terms and conditions. We strongly recommend that you always check this information carefully, as travel information can be subject to change.\n",
        "\"\"\".strip(),\n",
        "    file_path=\"question_6.txt\",\n",
        ")"
      ],
      "metadata": {
        "id": "Wr8Mi4O-MsP8"
      },
      "execution_count": 10,
      "outputs": []
    },
    {
      "cell_type": "code",
      "source": [
        "write_file(\n",
        "    question=\"I entered the wrong email address\",\n",
        "    answer=\"\"\"\n",
        "If you made a mistake with your email address when booking, you'll need to get in touch with the company you bought travel from as they'll be able to help.\n",
        "\n",
        "There are 1000s of travel agencies, airlines, hotels and car hire companies that you can buy from through our site and app. We call them \"partners\". When you buy from them, they will take your payment (you'll see their name on your bank or credit card statement), contact you to confirm your booking, and provide any help or support you might need.\n",
        "\"\"\".strip(),\n",
        "    file_path=\"question_7.txt\",\n",
        ")"
      ],
      "metadata": {
        "id": "UROdfyYPF0oI"
      },
      "execution_count": 11,
      "outputs": []
    },
    {
      "cell_type": "code",
      "source": [
        "write_file(\n",
        "    question=\"Luggage\",\n",
        "    answer=\"\"\"\n",
        "Depending on the flight provider, the rules, conditions and prices for luggage (including sports equipment) do vary.\n",
        "It’s always a good idea to check with the airline or travel agent directly (and you should be shown the options when you make your booking).\n",
        "\"\"\".strip(),\n",
        "    file_path=\"question_8.txt\",\n",
        ")"
      ],
      "metadata": {
        "id": "PgqkKT0LN_C-"
      },
      "execution_count": 12,
      "outputs": []
    },
    {
      "cell_type": "code",
      "source": [
        "write_file(\n",
        "    question=\"Changes, cancellations, and refunds\",\n",
        "    answer=\"\"\"\n",
        "For any questions about changes, cancellations, and refunds – as well as all other questions about bookings – you'll need to contact the company you bought travel from. They'll have all the info about your booking and can advise you.\n",
        "\n",
        "You'll find 1000s of travel agencies, airlines, hotels and car hire companies that you can buy from through our site and app. When you buy from one of these travel partners, they will take your payment (you'll see their name on your bank or credit card statement), contact you to confirm your booking, and provide any help or support you might need.\n",
        "\"\"\".strip(),\n",
        "    file_path=\"question_9.txt\",\n",
        ")"
      ],
      "metadata": {
        "id": "mv1UFm-7OofY"
      },
      "execution_count": 13,
      "outputs": []
    },
    {
      "cell_type": "code",
      "source": [
        "write_file(\n",
        "    question=\"Does Skyscanner charge commission?\",\n",
        "    answer=\"\"\"\n",
        "Skyscanner does the hard work for you, and it's free to search for your travel options on our site. We search over 1,200 travel providers to find you the best deal for your flight, hotel or car hire.\n",
        "\n",
        "See a price you like? When we refer you to book, they pay us, a small fee. And that's all there is to it!\n",
        "\"\"\".strip(),\n",
        "    file_path=\"question_11.txt\",\n",
        ")"
      ],
      "metadata": {
        "id": "HfeL9daUQXAQ"
      },
      "execution_count": 14,
      "outputs": []
    },
    {
      "cell_type": "code",
      "source": [
        "write_file(\n",
        "    question=\"Are my details safe?\",\n",
        "    answer=\"\"\"\n",
        "Safeguarding privacy is embedded in our culture and we use a combination of industry-standard methods to protect data.  We’ve strong organisation-wide security programmes, using a range of technical, organisational and administrative security measures and best-practice techniques, depending on the type of data being processed.\n",
        "\"\"\".strip(),\n",
        "    file_path=\"question_12.txt\",\n",
        ")"
      ],
      "metadata": {
        "id": "HygEJkPRPfs0"
      },
      "execution_count": 15,
      "outputs": []
    },
    {
      "cell_type": "markdown",
      "source": [
        "# **Model**"
      ],
      "metadata": {
        "id": "L5EPn6u3RoMs"
      }
    },
    {
      "cell_type": "code",
      "source": [
        "DEVICE = \"cuda:0\" if torch.cuda.is_available() else \"cpu\""
      ],
      "metadata": {
        "id": "-ZfpknoRR3Sr"
      },
      "execution_count": 16,
      "outputs": []
    },
    {
      "cell_type": "code",
      "source": [
        "DEVICE"
      ],
      "metadata": {
        "colab": {
          "base_uri": "https://localhost:8080/",
          "height": 35
        },
        "id": "xiPnAwZlVSW-",
        "outputId": "1fd5817a-86d6-41d4-a852-11f13c275daf"
      },
      "execution_count": 17,
      "outputs": [
        {
          "output_type": "execute_result",
          "data": {
            "text/plain": [
              "'cuda:0'"
            ],
            "application/vnd.google.colaboratory.intrinsic+json": {
              "type": "string"
            }
          },
          "metadata": {},
          "execution_count": 17
        }
      ]
    },
    {
      "cell_type": "code",
      "source": [
        "# !git --version"
      ],
      "metadata": {
        "id": "83RrnBffbCCJ"
      },
      "execution_count": 18,
      "outputs": []
    },
    {
      "cell_type": "code",
      "source": [
        "# !git lfs install"
      ],
      "metadata": {
        "id": "ywQ8XqlUbaRv"
      },
      "execution_count": 19,
      "outputs": []
    },
    {
      "cell_type": "code",
      "source": [
        "# !git clone https://huggingface.co/TheBloke/Nous-Hermes-13B-GPTQ"
      ],
      "metadata": {
        "id": "9V5xckB2be5G"
      },
      "execution_count": 20,
      "outputs": []
    },
    {
      "cell_type": "code",
      "source": [
        "model_name_or_path = \"TheBloke/Nous-Hermes-13B-GPTQ\"\n",
        "model_basename = \"model\"\n",
        "\n",
        "tokenizer = AutoTokenizer.from_pretrained(model_name_or_path, use_fast=True)\n",
        "\n",
        "model = AutoGPTQForCausalLM.from_quantized(\n",
        "    model_name_or_path,\n",
        "    model_basename=model_basename,\n",
        "    use_safetensors=True,\n",
        "    trust_remote_code=True,\n",
        "    device=DEVICE)\n",
        "\n",
        "genertaion_config = GenerationConfig.from_pretrained(model_name_or_path)"
      ],
      "metadata": {
        "colab": {
          "base_uri": "https://localhost:8080/"
        },
        "id": "JZPEDdPWVV8b",
        "outputId": "99cde26d-6e00-44ad-c019-53c70ac7633e"
      },
      "execution_count": 25,
      "outputs": [
        {
          "output_type": "stream",
          "name": "stderr",
          "text": [
            "WARNING:auto_gptq.nn_modules.fused_llama_mlp:skip module injection for FusedLlamaMLPForQuantizedModel not support integrate without triton yet.\n"
          ]
        }
      ]
    },
    {
      "cell_type": "code",
      "source": [
        "question = (\n",
        "    \"Which programming language is more suitable for a beginner?\"\n",
        ")\n",
        "prompt = f\"\"\"\n",
        "### Instruction: {question}\n",
        "### Response:\n",
        "\"\"\".strip()"
      ],
      "metadata": {
        "id": "rCA-9d3En7O5"
      },
      "execution_count": 32,
      "outputs": []
    },
    {
      "cell_type": "code",
      "source": [
        "print(prompt)"
      ],
      "metadata": {
        "colab": {
          "base_uri": "https://localhost:8080/"
        },
        "id": "rq7TPuyfo-WS",
        "outputId": "fc50f90d-f1c1-4071-ff3a-d634e417a041"
      },
      "execution_count": 33,
      "outputs": [
        {
          "output_type": "stream",
          "name": "stdout",
          "text": [
            "### Instruction: Which programming language is more suitable for a beginner?\n",
            "### Response:\n"
          ]
        }
      ]
    },
    {
      "cell_type": "code",
      "source": [
        "%%time\n",
        "input_ids = tokenizer(prompt, return_tensors=\"pt\").input_ids.to(DEVICE)\n",
        "with torch.inference_mode():\n",
        "  output = model.generate(inputs=input_ids, temperature=0.7, max_new_tokens=512)"
      ],
      "metadata": {
        "colab": {
          "base_uri": "https://localhost:8080/"
        },
        "id": "yOAPtluxpJ1I",
        "outputId": "c75fe98e-42ec-4df6-d75a-6823e5c8289e"
      },
      "execution_count": 34,
      "outputs": [
        {
          "output_type": "stream",
          "name": "stdout",
          "text": [
            "CPU times: user 2.15 s, sys: 161 ms, total: 2.31 s\n",
            "Wall time: 4.19 s\n"
          ]
        }
      ]
    },
    {
      "cell_type": "code",
      "source": [
        "print(tokenizer.decode(output[0]))"
      ],
      "metadata": {
        "colab": {
          "base_uri": "https://localhost:8080/"
        },
        "id": "GPwbHIPTp8Rl",
        "outputId": "80a88bad-a572-4d18-ab3c-973aab613fea"
      },
      "execution_count": 35,
      "outputs": [
        {
          "output_type": "stream",
          "name": "stdout",
          "text": [
            "<s> ### Instruction: Which programming language is more suitable for a beginner?\n",
            "### Response:Python is generally considered to be a more beginner-friendly programming language compared to Java.</s>\n"
          ]
        }
      ]
    }
  ]
}