{
  "nbformat": 4,
  "nbformat_minor": 0,
  "metadata": {
    "colab": {
      "provenance": [],
      "gpuType": "T4"
    },
    "kernelspec": {
      "name": "python3",
      "display_name": "Python 3"
    },
    "language_info": {
      "name": "python"
    },
    "accelerator": "GPU"
  },
  "cells": [
    {
      "cell_type": "code",
      "execution_count": 1,
      "metadata": {
        "colab": {
          "base_uri": "https://localhost:8080/"
        },
        "id": "wnww5bZYpr2L",
        "outputId": "5e8d8c1c-e05d-45a3-fedf-70d75b80b9ed"
      },
      "outputs": [
        {
          "output_type": "stream",
          "name": "stdout",
          "text": [
            "Fri Aug 25 20:38:05 2023       \n",
            "+-----------------------------------------------------------------------------+\n",
            "| NVIDIA-SMI 525.105.17   Driver Version: 525.105.17   CUDA Version: 12.0     |\n",
            "|-------------------------------+----------------------+----------------------+\n",
            "| GPU  Name        Persistence-M| Bus-Id        Disp.A | Volatile Uncorr. ECC |\n",
            "| Fan  Temp  Perf  Pwr:Usage/Cap|         Memory-Usage | GPU-Util  Compute M. |\n",
            "|                               |                      |               MIG M. |\n",
            "|===============================+======================+======================|\n",
            "|   0  Tesla T4            Off  | 00000000:00:04.0 Off |                    0 |\n",
            "| N/A   74C    P8    12W /  70W |      0MiB / 15360MiB |      0%      Default |\n",
            "|                               |                      |                  N/A |\n",
            "+-------------------------------+----------------------+----------------------+\n",
            "                                                                               \n",
            "+-----------------------------------------------------------------------------+\n",
            "| Processes:                                                                  |\n",
            "|  GPU   GI   CI        PID   Type   Process name                  GPU Memory |\n",
            "|        ID   ID                                                   Usage      |\n",
            "|=============================================================================|\n",
            "|  No running processes found                                                 |\n",
            "+-----------------------------------------------------------------------------+\n"
          ]
        }
      ],
      "source": [
        "!nvidia-smi"
      ]
    },
    {
      "cell_type": "code",
      "source": [
        "!pip install -Uqqq pip --progress-bar off\n",
        "!pip install -qqq langchain==0.0.228 --progress-bar off\n",
        "!pip install -qqq chromadb==0.3.26 --progress-bar off\n",
        "!pip install -qqq sentence-transformers==2.2.2 --progress-bar off\n",
        "!pip install -qqq auto-gptq==0.2.2 --progress-bar off\n",
        "!pip install -qqg einops==0.6.1 --progress-bar off\n",
        "!pip install -qqq unstructured==0.8.0 --progress-bar off\n",
        "!pip install -qqq transformers==4.30.2 --progress-bar off\n",
        "!pip install -qqq torch==2.0.1 --progress-bar off\n"
      ],
      "metadata": {
        "id": "Yj08_ra39xXn",
        "colab": {
          "base_uri": "https://localhost:8080/"
        },
        "outputId": "2011717c-632b-4749-c6fd-fbd9d7d72e5d"
      },
      "execution_count": 2,
      "outputs": [
        {
          "output_type": "stream",
          "name": "stdout",
          "text": [
            "\u001b[33mWARNING: Running pip as the 'root' user can result in broken permissions and conflicting behaviour with the system package manager. It is recommended to use a virtual environment instead: https://pip.pypa.io/warnings/venv\u001b[0m\u001b[33m\n",
            "\u001b[0m\u001b[33mWARNING: Running pip as the 'root' user can result in broken permissions and conflicting behaviour with the system package manager. It is recommended to use a virtual environment instead: https://pip.pypa.io/warnings/venv\u001b[0m\u001b[33m\n",
            "\u001b[0m\u001b[33mWARNING: Running pip as the 'root' user can result in broken permissions and conflicting behaviour with the system package manager. It is recommended to use a virtual environment instead: https://pip.pypa.io/warnings/venv\u001b[0m\u001b[33m\n",
            "\u001b[0m\u001b[33mWARNING: Running pip as the 'root' user can result in broken permissions and conflicting behaviour with the system package manager. It is recommended to use a virtual environment instead: https://pip.pypa.io/warnings/venv\u001b[0m\u001b[33m\n",
            "\u001b[0m\u001b[33mWARNING: Running pip as the 'root' user can result in broken permissions and conflicting behaviour with the system package manager. It is recommended to use a virtual environment instead: https://pip.pypa.io/warnings/venv\u001b[0m\u001b[33m\n",
            "\u001b[0m\n",
            "Usage:   \n",
            "  pip install [options] <requirement specifier> [package-index-options] ...\n",
            "  pip install [options] -r <requirements file> [package-index-options] ...\n",
            "  pip install [options] [-e] <vcs project url> ...\n",
            "  pip install [options] [-e] <local project path> ...\n",
            "  pip install [options] <archive url/path> ...\n",
            "\n",
            "no such option: -g\n",
            "\u001b[33mWARNING: Running pip as the 'root' user can result in broken permissions and conflicting behaviour with the system package manager. It is recommended to use a virtual environment instead: https://pip.pypa.io/warnings/venv\u001b[0m\u001b[33m\n",
            "\u001b[0m\u001b[33mWARNING: Running pip as the 'root' user can result in broken permissions and conflicting behaviour with the system package manager. It is recommended to use a virtual environment instead: https://pip.pypa.io/warnings/venv\u001b[0m\u001b[33m\n",
            "\u001b[0m\u001b[33mWARNING: Running pip as the 'root' user can result in broken permissions and conflicting behaviour with the system package manager. It is recommended to use a virtual environment instead: https://pip.pypa.io/warnings/venv\u001b[0m\u001b[33m\n",
            "\u001b[0m"
          ]
        }
      ]
    },
    {
      "cell_type": "code",
      "source": [
        "from pathlib import Path\n",
        "\n",
        "import torch\n",
        "from auto_gptq import AutoGPTQForCausalLM\n",
        "from langchain.chains import ConversationalRetrievalChain\n",
        "from langchain.chains.question_answering import load_qa_chain\n",
        "from langchain.document_loaders import DirectoryLoader\n",
        "from langchain.embeddings import HuggingFaceEmbeddings\n",
        "from langchain.llms import HuggingFacePipeline\n",
        "from langchain.memory import ConversationBufferMemory\n",
        "from langchain.prompts import PromptTemplate\n",
        "from langchain.text_splitter import CharacterTextSplitter\n",
        "from langchain.vectorstores import Chroma\n",
        "from transformers import AutoTokenizer, GenerationConfig, TextStreamer, pipeline"
      ],
      "metadata": {
        "id": "RS8Pcwsq-HXy"
      },
      "execution_count": 3,
      "outputs": []
    },
    {
      "cell_type": "code",
      "source": [
        "questions_dir = Path(\"skyscanner\")\n",
        "questions_dir.mkdir(exist_ok=True, parents=True)\n",
        "\n",
        "def write_file(question, answer, file_path):\n",
        "  text = f\"\"\"\n",
        "Q: {question}\n",
        "A: {answer}\n",
        "\"\"\".strip()\n",
        "  with Path(questions_dir / file_path).open(\"w\") as text_file:\n",
        "    text_file.write(text)\n"
      ],
      "metadata": {
        "id": "nWkpVwFE-8iy"
      },
      "execution_count": 4,
      "outputs": []
    },
    {
      "cell_type": "code",
      "source": [
        "write_file(\n",
        "    question=\"How do I search for flights on Skyscanner?\",\n",
        "    answer=\"\"\"\n",
        "We know you're looking for the best prices and maximum flexibility to choose the right flight.\n",
        "\n",
        "To start your search, click here to head back to Skyscanner's search pages. Enter the departure country, city or airport in the From text field, the destination country, city or airport in the To text field and your travel dates in the Depart and Return text fields, and click Search. A list of flights will appear.\n",
        "\n",
        "When you've seen a suitable flight for your needs, you can click on Select, and we'll show you a list of airlines and travel agencies so you can book directly with them.\n",
        "\n",
        "Smart search filters, such as number of stops and departure time, help you find the perfect flight. Plus, we've got many tips and tricks to help you save more. Please visit our Travel Blog page to find out more.\n",
        "\n",
        "If you're looking for inspiration for your next trip, why not try our everywhere feature, which helps you see endless destinations, at every price, from thousands of travel sites in one place?\n",
        "\"\"\".strip(),\n",
        "    file_path=\"question_1.txt\"\n",
        ")"
      ],
      "metadata": {
        "id": "SeBAfXviA5jH"
      },
      "execution_count": 5,
      "outputs": []
    },
    {
      "cell_type": "code",
      "source": [
        "write_file(\n",
        "    question=\"What are mash-ups?\",\n",
        "    answer=\"\"\"\n",
        "These are routes where you fly with different airlines, because it’s cheaper than booking with just one. For example:\n",
        "\n",
        "If you wanted to fly London to New York, we might find it’s cheaper to fly out with British Airways and back with Virgin Atlantic, rather than buy a return ticket with one airline. This is called a ‘sum-of-one-way’ mash-up. Just in case you’re interested.\n",
        "\n",
        "Another kind of mash-up is what we call a ‘self-transfer’ or a ‘non-protected transfer’. For example:\n",
        "\n",
        "If you wanted to fly London to Sydney, we might find it’s cheaper to fly London to Dubai with Emirates, and then Dubai to Sydney with Qantas, rather than booking the whole route with one airline.\n",
        "\n",
        "Pretty simple, right?\n",
        "\n",
        "However, what’s really important to bear in mind is that mash-ups are NOT codeshares. A codeshare is when the airlines have an alliance. If anything goes wrong with the route — a delay, say, or a strike — those airlines will help you out at no extra cost. But mash-ups DO NOT involve an airline alliance. So if something goes wrong with a mash-up, it could cost you more money.\n",
        "\"\"\".strip(),\n",
        "    file_path=\"question_2.txt\"\n",
        ")"
      ],
      "metadata": {
        "id": "00srnfMADnzp"
      },
      "execution_count": 6,
      "outputs": []
    },
    {
      "cell_type": "code",
      "source": [
        "write_file(\n",
        "    question=\"Why have I been blocked from accessing the Skyscanner website?\",\n",
        "    answer=\"\"\"\n",
        "Skyscanner’s websites are scraped by bots many millions of times a day which has a detrimental effect on the service we’re able to provide. To prevent this, we use a bot blocking solution which checks to ensure you’re using the website in a normal manner.\n",
        "\n",
        "Occasionally, this may mean that a genuine user may be wrongly flagged as a bot. This can be for a number of potential reasons, including, but not limited to:\n",
        "\n",
        "You’re using a VPN which we have had to block due to excessive bot traffic in the past\n",
        "You’re using our website at super speed which manages to beat our rate limits\n",
        "You have a plug-in on your browser which could be interfering with how our website interacts with you as a user\n",
        "You’re using an automated browser\n",
        "If you've been blocked during normal use, please send us your IP address (this website may help: http://www.whatismyip.com/), the website you’re accessing (e.g. www.skyscanner.net) and the date/time this happened, via the Contact Us button below and we’ll look into it as quickly as possible.\n",
        "\"\"\".strip(),\n",
        "    file_path=\"question_3.txt\"\n",
        ")"
      ],
      "metadata": {
        "id": "7xu237Y1ET6U"
      },
      "execution_count": 7,
      "outputs": []
    },
    {
      "cell_type": "code",
      "source": [
        "write_file(\n",
        "    question=\"Where is my booking confirmation?\",\n",
        "    answer=\"\"\"\n",
        "You should get a booking confirmation by email from the company you bought your travel from. This can sometimes go into your spam/junk mail folder so it's always worth checking there.\n",
        "\n",
        "If you still can't find it, it's worth getting in touch with the company you bought from to find out what's going on.\n",
        "\n",
        "To find out who you need to contact, check the company name next to the charge on your bank account.\n",
        "\"\"\".strip(),\n",
        "    file_path=\"question_4.txt\"\n",
        ")"
      ],
      "metadata": {
        "id": "hE98O0-NFVk5"
      },
      "execution_count": 8,
      "outputs": []
    },
    {
      "cell_type": "code",
      "source": [
        "write_file(\n",
        "    question=\"How do I change or cancel my booking?\",\n",
        "    answer=\"\"\"\n",
        "For all questions about changes, cancellations, and refunds – as well as all other questions about bookings – you'll need to contact the company you bought travel from. They'll have all the info about your booking and can advise you.\n",
        "\n",
        "You'll find 1000s of travel agencies, airlines, hotels and car hire companies that you can buy from through our site and app. When you buy from one of these travel partners, they will take your payment (you'll see their name on your bank or credit card statement), contact you to confirm your booking, and provide any help or support you might need.\n",
        "\n",
        "If you bought from one of these partners, you'll need to contact them as they have all the info about your booking. We unfortunately don't have any access to bookings you made with them.\n",
        "\"\"\".strip(),\n",
        "    file_path=\"question_5.txt\"\n",
        ")"
      ],
      "metadata": {
        "id": "at5pRQT1GTU5"
      },
      "execution_count": 9,
      "outputs": []
    },
    {
      "cell_type": "code",
      "source": [
        "write_file(\n",
        "    question=\"I booked the wrong dates / times\",\n",
        "    answer=\"\"\"\n",
        "If you have found that you have booked the wrong dates or times, please contact the airline or travel agent that you booked your flight with as they will be able to help you change your flights to the intended dates or times.\n",
        "\n",
        "The search box below can help you find the contact details for the travel provider you booked with.\n",
        "\n",
        "You can search flexible or specific dates on Skyscanner to find your preferred flight, and when you select a flight on Skyscanner you are transferred to the website where you will make and pay for your booking. Once you are redirected to the airline or travel agent website, you might be required to select dates again, depending on the website. In all cases, you will be shown the flight details of your selection and you are required before confirming payment to state that you have checked all details and agreed to the terms and conditions. We strongly recommend that you always check this information carefully, as travel information can be subject to change.\n",
        "\"\"\".strip(),\n",
        "    file_path=\"question_6.txt\",\n",
        ")"
      ],
      "metadata": {
        "id": "Wr8Mi4O-MsP8"
      },
      "execution_count": 10,
      "outputs": []
    },
    {
      "cell_type": "code",
      "source": [
        "write_file(\n",
        "    question=\"I entered the wrong email address\",\n",
        "    answer=\"\"\"\n",
        "If you made a mistake with your email address when booking, you'll need to get in touch with the company you bought travel from as they'll be able to help.\n",
        "\n",
        "There are 1000s of travel agencies, airlines, hotels and car hire companies that you can buy from through our site and app. We call them \"partners\". When you buy from them, they will take your payment (you'll see their name on your bank or credit card statement), contact you to confirm your booking, and provide any help or support you might need.\n",
        "\"\"\".strip(),\n",
        "    file_path=\"question_7.txt\",\n",
        ")"
      ],
      "metadata": {
        "id": "UROdfyYPF0oI"
      },
      "execution_count": 11,
      "outputs": []
    },
    {
      "cell_type": "code",
      "source": [
        "write_file(\n",
        "    question=\"Luggage\",\n",
        "    answer=\"\"\"\n",
        "Depending on the flight provider, the rules, conditions and prices for luggage (including sports equipment) do vary.\n",
        "It’s always a good idea to check with the airline or travel agent directly (and you should be shown the options when you make your booking).\n",
        "\"\"\".strip(),\n",
        "    file_path=\"question_8.txt\",\n",
        ")"
      ],
      "metadata": {
        "id": "PgqkKT0LN_C-"
      },
      "execution_count": 12,
      "outputs": []
    },
    {
      "cell_type": "code",
      "source": [
        "write_file(\n",
        "    question=\"Changes, cancellations, and refunds\",\n",
        "    answer=\"\"\"\n",
        "For any questions about changes, cancellations, and refunds – as well as all other questions about bookings – you'll need to contact the company you bought travel from. They'll have all the info about your booking and can advise you.\n",
        "\n",
        "You'll find 1000s of travel agencies, airlines, hotels and car hire companies that you can buy from through our site and app. When you buy from one of these travel partners, they will take your payment (you'll see their name on your bank or credit card statement), contact you to confirm your booking, and provide any help or support you might need.\n",
        "\"\"\".strip(),\n",
        "    file_path=\"question_9.txt\",\n",
        ")"
      ],
      "metadata": {
        "id": "mv1UFm-7OofY"
      },
      "execution_count": 13,
      "outputs": []
    },
    {
      "cell_type": "code",
      "source": [
        "write_file(\n",
        "    question=\"Why does the price sometimes change when I am redirected to a flight provider?\",\n",
        "    answer=\"\"\"\n",
        "Flight prices and availability change constantly, so we make sure the data is updated regularly to reflect this. When you redirect to a travel provider’s site, the price is updated again so you can be sure that you will always see the best price available from the airline or travel agent at time of booking.\n",
        "\n",
        "We make every effort to ensure the information you see on Skyscanner is accurate and up to date, but very occasionally there can be reasons why a price change has not updated accurately on the site. If you see a price difference between Skyscanner and a travel provider, please contact us with all the flight details (from, to, dates, departure times, airline and travel agent if applicable) and we will investigate further.\n",
        "\"\"\".strip(),\n",
        "    file_path=\"question_10.txt\",\n",
        ")"
      ],
      "metadata": {
        "id": "zUVjhnNDGHrk"
      },
      "execution_count": 14,
      "outputs": []
    },
    {
      "cell_type": "code",
      "source": [
        "write_file(\n",
        "    question=\"Does Skyscanner charge commission?\",\n",
        "    answer=\"\"\"\n",
        "Skyscanner does the hard work for you, and it's free to search for your travel options on our site. We search over 1,200 travel providers to find you the best deal for your flight, hotel or car hire.\n",
        "\n",
        "See a price you like? When we refer you to book, they pay us, a small fee. And that's all there is to it!\n",
        "\"\"\".strip(),\n",
        "    file_path=\"question_11.txt\",\n",
        ")"
      ],
      "metadata": {
        "id": "HfeL9daUQXAQ"
      },
      "execution_count": 15,
      "outputs": []
    },
    {
      "cell_type": "code",
      "source": [
        "write_file(\n",
        "    question=\"Are my details safe?\",\n",
        "    answer=\"\"\"\n",
        "Safeguarding privacy is embedded in our culture and we use a combination of industry-standard methods to protect data.  We’ve strong organisation-wide security programmes, using a range of technical, organisational and administrative security measures and best-practice techniques, depending on the type of data being processed.\n",
        "\"\"\".strip(),\n",
        "    file_path=\"question_12.txt\",\n",
        ")"
      ],
      "metadata": {
        "id": "HygEJkPRPfs0"
      },
      "execution_count": 16,
      "outputs": []
    },
    {
      "cell_type": "markdown",
      "source": [
        "# **Model**"
      ],
      "metadata": {
        "id": "L5EPn6u3RoMs"
      }
    },
    {
      "cell_type": "code",
      "source": [
        "DEVICE = \"cuda:0\" if torch.cuda.is_available() else \"cpu\""
      ],
      "metadata": {
        "id": "-ZfpknoRR3Sr"
      },
      "execution_count": 17,
      "outputs": []
    },
    {
      "cell_type": "code",
      "source": [
        "DEVICE"
      ],
      "metadata": {
        "colab": {
          "base_uri": "https://localhost:8080/",
          "height": 35
        },
        "id": "xiPnAwZlVSW-",
        "outputId": "9336bd26-0153-464b-fae4-4251cd6e08d9"
      },
      "execution_count": 18,
      "outputs": [
        {
          "output_type": "execute_result",
          "data": {
            "text/plain": [
              "'cuda:0'"
            ],
            "application/vnd.google.colaboratory.intrinsic+json": {
              "type": "string"
            }
          },
          "metadata": {},
          "execution_count": 18
        }
      ]
    },
    {
      "cell_type": "code",
      "source": [
        "# !git --version"
      ],
      "metadata": {
        "id": "83RrnBffbCCJ"
      },
      "execution_count": 19,
      "outputs": []
    },
    {
      "cell_type": "code",
      "source": [
        "# !git lfs install"
      ],
      "metadata": {
        "id": "ywQ8XqlUbaRv"
      },
      "execution_count": 20,
      "outputs": []
    },
    {
      "cell_type": "code",
      "source": [
        "# !git clone https://huggingface.co/TheBloke/Nous-Hermes-13B-GPTQ"
      ],
      "metadata": {
        "id": "9V5xckB2be5G"
      },
      "execution_count": 21,
      "outputs": []
    },
    {
      "cell_type": "code",
      "source": [
        "model_name_or_path = \"TheBloke/Nous-Hermes-13B-GPTQ\"\n",
        "model_basename = \"model\"\n",
        "\n",
        "tokenizer = AutoTokenizer.from_pretrained(model_name_or_path, use_fast=True)\n",
        "\n",
        "model = AutoGPTQForCausalLM.from_quantized(\n",
        "    model_name_or_path,\n",
        "    model_basename=model_basename,\n",
        "    use_safetensors=True,\n",
        "    trust_remote_code=True,\n",
        "    device=DEVICE)\n",
        "\n",
        "generation_config = GenerationConfig.from_pretrained(model_name_or_path)"
      ],
      "metadata": {
        "colab": {
          "base_uri": "https://localhost:8080/"
        },
        "id": "JZPEDdPWVV8b",
        "outputId": "64af0e07-0cf4-4b9b-f8d7-bf5650f91dcb"
      },
      "execution_count": 22,
      "outputs": [
        {
          "output_type": "stream",
          "name": "stderr",
          "text": [
            "WARNING:auto_gptq.nn_modules.fused_llama_mlp:skip module injection for FusedLlamaMLPForQuantizedModel not support integrate without triton yet.\n"
          ]
        }
      ]
    },
    {
      "cell_type": "code",
      "source": [
        "question = (\n",
        "    \"What is esg?\"\n",
        ")\n",
        "prompt = f\"\"\"\n",
        "### Instruction: {question}\n",
        "### Response:\n",
        "\"\"\".strip()"
      ],
      "metadata": {
        "id": "rCA-9d3En7O5"
      },
      "execution_count": 23,
      "outputs": []
    },
    {
      "cell_type": "code",
      "source": [
        "print(prompt)"
      ],
      "metadata": {
        "colab": {
          "base_uri": "https://localhost:8080/"
        },
        "id": "rq7TPuyfo-WS",
        "outputId": "11dbf2a5-f89f-4f12-a33e-c4fff9a177fb"
      },
      "execution_count": 24,
      "outputs": [
        {
          "output_type": "stream",
          "name": "stdout",
          "text": [
            "### Instruction: What is esg?\n",
            "### Response:\n"
          ]
        }
      ]
    },
    {
      "cell_type": "code",
      "source": [
        "%%time\n",
        "input_ids = tokenizer(prompt, return_tensors=\"pt\").input_ids.to(DEVICE)\n",
        "with torch.inference_mode():\n",
        "  output = model.generate(inputs=input_ids, temperature=0.7, max_new_tokens=512)"
      ],
      "metadata": {
        "colab": {
          "base_uri": "https://localhost:8080/"
        },
        "id": "yOAPtluxpJ1I",
        "outputId": "d9415446-c063-41c0-f424-7efbe10528a8"
      },
      "execution_count": 25,
      "outputs": [
        {
          "output_type": "stream",
          "name": "stdout",
          "text": [
            "CPU times: user 7.85 s, sys: 529 ms, total: 8.38 s\n",
            "Wall time: 11.1 s\n"
          ]
        }
      ]
    },
    {
      "cell_type": "code",
      "source": [
        "print(tokenizer.decode(output[0]))"
      ],
      "metadata": {
        "colab": {
          "base_uri": "https://localhost:8080/"
        },
        "id": "GPwbHIPTp8Rl",
        "outputId": "d2dfcfd7-7069-498a-949c-82286c6916f7"
      },
      "execution_count": 26,
      "outputs": [
        {
          "output_type": "stream",
          "name": "stdout",
          "text": [
            "<s> ### Instruction: What is esg?\n",
            "### Response:ESG stands for Environmental, Social, and Governance. It is a framework used by investors to assess the sustainability and ethical impact of investment opportunities. The three pillars of ESG focus on the environmental impact of a company's operations, its impact on society through its practices and products, and its governance practices, including transparency and accountability. ESG investing is becoming increasingly popular among investors who want to align their investments with their values and promote sustainable and responsible business practices.</s>\n"
          ]
        }
      ]
    },
    {
      "cell_type": "code",
      "source": [
        "generation_config"
      ],
      "metadata": {
        "colab": {
          "base_uri": "https://localhost:8080/"
        },
        "id": "h5-P-RiI2dOc",
        "outputId": "f4e9b9c0-261d-4cee-bbe7-fed94e89fbe3"
      },
      "execution_count": 27,
      "outputs": [
        {
          "output_type": "execute_result",
          "data": {
            "text/plain": [
              "GenerationConfig {\n",
              "  \"_from_model_config\": true,\n",
              "  \"bos_token_id\": 1,\n",
              "  \"eos_token_id\": 2,\n",
              "  \"pad_token_id\": 0,\n",
              "  \"transformers_version\": \"4.30.2\"\n",
              "}"
            ]
          },
          "metadata": {},
          "execution_count": 27
        }
      ]
    },
    {
      "cell_type": "code",
      "source": [
        " streamer = TextStreamer(tokenizer, skip_prompt=True, skip_special_tokens=True, use_multiprocessing=False)"
      ],
      "metadata": {
        "id": "lN_H_TrH4YBb"
      },
      "execution_count": 28,
      "outputs": []
    },
    {
      "cell_type": "code",
      "source": [
        "pipe = pipeline(\n",
        "    \"text-generation\",\n",
        "    model=model,\n",
        "    tokenizer=tokenizer,\n",
        "    max_length=2048,\n",
        "    temperature=0,\n",
        "    top_p=0.95,\n",
        "    repetition_penalty=1.15,\n",
        "    generation_config=generation_config,\n",
        "    streamer=streamer,\n",
        "    batch_size=1\n",
        ")"
      ],
      "metadata": {
        "colab": {
          "base_uri": "https://localhost:8080/"
        },
        "id": "3Po72Lg25RRa",
        "outputId": "2b6aec1d-cbb4-4b3b-f34f-37d3b11cd912"
      },
      "execution_count": 29,
      "outputs": [
        {
          "output_type": "stream",
          "name": "stderr",
          "text": [
            "Xformers is not installed correctly. If you want to use memory_efficient_attention to accelerate training use the following command to install Xformers\n",
            "pip install xformers.\n",
            "The model 'LlamaGPTQForCausalLM' is not supported for text-generation. Supported models are ['BartForCausalLM', 'BertLMHeadModel', 'BertGenerationDecoder', 'BigBirdForCausalLM', 'BigBirdPegasusForCausalLM', 'BioGptForCausalLM', 'BlenderbotForCausalLM', 'BlenderbotSmallForCausalLM', 'BloomForCausalLM', 'CamembertForCausalLM', 'CodeGenForCausalLM', 'CpmAntForCausalLM', 'CTRLLMHeadModel', 'Data2VecTextForCausalLM', 'ElectraForCausalLM', 'ErnieForCausalLM', 'GitForCausalLM', 'GPT2LMHeadModel', 'GPT2LMHeadModel', 'GPTBigCodeForCausalLM', 'GPTNeoForCausalLM', 'GPTNeoXForCausalLM', 'GPTNeoXJapaneseForCausalLM', 'GPTJForCausalLM', 'LlamaForCausalLM', 'MarianForCausalLM', 'MBartForCausalLM', 'MegaForCausalLM', 'MegatronBertForCausalLM', 'MvpForCausalLM', 'OpenLlamaForCausalLM', 'OpenAIGPTLMHeadModel', 'OPTForCausalLM', 'PegasusForCausalLM', 'PLBartForCausalLM', 'ProphetNetForCausalLM', 'QDQBertLMHeadModel', 'ReformerModelWithLMHead', 'RemBertForCausalLM', 'RobertaForCausalLM', 'RobertaPreLayerNormForCausalLM', 'RoCBertForCausalLM', 'RoFormerForCausalLM', 'RwkvForCausalLM', 'Speech2Text2ForCausalLM', 'TransfoXLLMHeadModel', 'TrOCRForCausalLM', 'XGLMForCausalLM', 'XLMWithLMHeadModel', 'XLMProphetNetForCausalLM', 'XLMRobertaForCausalLM', 'XLMRobertaXLForCausalLM', 'XLNetLMHeadModel', 'XmodForCausalLM'].\n"
          ]
        }
      ]
    },
    {
      "cell_type": "code",
      "source": [
        "llm = HuggingFacePipeline(pipeline=pipe)"
      ],
      "metadata": {
        "id": "616bayXg6pM1"
      },
      "execution_count": 30,
      "outputs": []
    },
    {
      "cell_type": "code",
      "source": [
        "response = llm(prompt)"
      ],
      "metadata": {
        "colab": {
          "base_uri": "https://localhost:8080/"
        },
        "id": "GM2lHoHR61bS",
        "outputId": "a44744e4-702a-43a8-a4cb-8d6abdf4fbe2"
      },
      "execution_count": 31,
      "outputs": [
        {
          "output_type": "stream",
          "name": "stdout",
          "text": [
            "ESG stands for Environmental, Social and Governance. It refers to the three main factors that investors consider when evaluating a company's sustainability and potential future success. ESG factors include environmental impact, social responsibility, and good corporate governance practices. Investors who prioritize ESG criteria in their investment decisions aim to support companies with strong sustainable practices while avoiding those with negative impacts on society or the environment.\n"
          ]
        }
      ]
    },
    {
      "cell_type": "markdown",
      "source": [
        "\n",
        "# **Embed Documents**"
      ],
      "metadata": {
        "id": "Cx59RWeUC2nu"
      }
    },
    {
      "cell_type": "code",
      "source": [
        "embeddings = HuggingFaceEmbeddings(\n",
        "    model_name=\"embaas/sentence-transformers-multilingual-e5-base\",\n",
        "    model_kwargs={\"device\": DEVICE},\n",
        ")"
      ],
      "metadata": {
        "id": "sB2MIx-mC_Es"
      },
      "execution_count": 32,
      "outputs": []
    },
    {
      "cell_type": "code",
      "source": [
        "loader = DirectoryLoader(\"./skyscanner/\", glob=\"**/*txt\")\n",
        "documents = loader.load()\n",
        "len(documents)"
      ],
      "metadata": {
        "colab": {
          "base_uri": "https://localhost:8080/"
        },
        "id": "0rjP4ae6C_hg",
        "outputId": "4e8f6185-a7eb-4f38-8928-49c627eb65a2"
      },
      "execution_count": 33,
      "outputs": [
        {
          "output_type": "execute_result",
          "data": {
            "text/plain": [
              "12"
            ]
          },
          "metadata": {},
          "execution_count": 33
        }
      ]
    },
    {
      "cell_type": "code",
      "source": [
        "text_splitter = CharacterTextSplitter(chunk_size=512, chunk_overlap=0)\n",
        "texts = text_splitter.split_documents(documents)"
      ],
      "metadata": {
        "id": "MxIcYMwRFEN_"
      },
      "execution_count": 34,
      "outputs": []
    },
    {
      "cell_type": "code",
      "source": [
        "texts[4]"
      ],
      "metadata": {
        "colab": {
          "base_uri": "https://localhost:8080/"
        },
        "id": "9og1JoH8HTHp",
        "outputId": "0b62bdc9-5705-4afb-8dcb-d705425fdd0f"
      },
      "execution_count": 35,
      "outputs": [
        {
          "output_type": "execute_result",
          "data": {
            "text/plain": [
              "Document(page_content=\"Q: I entered the wrong email address A: If you made a mistake with your email address when booking, you'll need to get in touch with the company you bought travel from as they'll be able to help.\", metadata={'source': 'skyscanner/question_7.txt'})"
            ]
          },
          "metadata": {},
          "execution_count": 35
        }
      ]
    },
    {
      "cell_type": "code",
      "source": [
        "db = Chroma.from_documents(texts, embeddings)"
      ],
      "metadata": {
        "id": "pYiWdH8QHpdE"
      },
      "execution_count": 36,
      "outputs": []
    },
    {
      "cell_type": "code",
      "source": [
        "db.similarity_search(\"flight search\")"
      ],
      "metadata": {
        "colab": {
          "base_uri": "https://localhost:8080/"
        },
        "id": "YQcpAPeOH6gU",
        "outputId": "6c80ddee-42c5-4a35-874d-e991913d1bc9"
      },
      "execution_count": 37,
      "outputs": [
        {
          "output_type": "execute_result",
          "data": {
            "text/plain": [
              "[Document(page_content=\"Q: How do I search for flights on Skyscanner? A: We know you're looking for the best prices and maximum flexibility to choose the right flight.\\n\\nTo start your search, click here to head back to Skyscanner's search pages. Enter the departure country, city or airport in the From text field, the destination country, city or airport in the To text field and your travel dates in the Depart and Return text fields, and click Search. A list of flights will appear.\", metadata={'source': 'skyscanner/question_1.txt'}),\n",
              " Document(page_content=\"When you've seen a suitable flight for your needs, you can click on Select, and we'll show you a list of airlines and travel agencies so you can book directly with them.\\n\\nSmart search filters, such as number of stops and departure time, help you find the perfect flight. Plus, we've got many tips and tricks to help you save more. Please visit our Travel Blog page to find out more.\", metadata={'source': 'skyscanner/question_1.txt'}),\n",
              " Document(page_content='Q: I booked the wrong dates / times A: If you have found that you have booked the wrong dates or times, please contact the airline or travel agent that you booked your flight with as they will be able to help you change your flights to the intended dates or times.\\n\\nThe search box below can help you find the contact details for the travel provider you booked with.', metadata={'source': 'skyscanner/question_6.txt'}),\n",
              " Document(page_content=\"You’re using a VPN which we have had to block due to excessive bot traffic in the past You’re using our website at super speed which manages to beat our rate limits You have a plug-in on your browser which could be interfering with how our website interacts with you as a user You’re using an automated browser If you've been blocked during normal use, please send us your IP address (this website may help: http://www.whatismyip.com/), the website you’re accessing (e.g. www.skyscanner.net) and the date/time this happened, via the Contact Us button below and we’ll look into it as quickly as possible.\", metadata={'source': 'skyscanner/question_3.txt'})]"
            ]
          },
          "metadata": {},
          "execution_count": 37
        }
      ]
    },
    {
      "cell_type": "markdown",
      "source": [
        "#**Conversational Chain**"
      ],
      "metadata": {
        "id": "K-9y6sfgIYf6"
      }
    },
    {
      "cell_type": "code",
      "source": [
        "template = \"\"\"\n",
        "### Instruction: You're a travelling support agent that is talking to a customer. Use only the chat history and the following information\n",
        "{context}\n",
        "to answer in a helpful manner to the question. If you don't know the answer - say that you don't know.\n",
        "Kepp your replies, short, compassionate and informative.\n",
        "{chat_history}\n",
        "### Input: {question}\n",
        "### Response:\n",
        "\"\"\".strip()"
      ],
      "metadata": {
        "id": "IdfPW1SIIVfu"
      },
      "execution_count": 38,
      "outputs": []
    },
    {
      "cell_type": "code",
      "source": [
        "prompt = PromptTemplate(\n",
        "    input_variables=[\"context\", \"question\", \"chat_history\"], template=template\n",
        ")"
      ],
      "metadata": {
        "id": "WsFYkiMZK3nX"
      },
      "execution_count": 39,
      "outputs": []
    },
    {
      "cell_type": "code",
      "source": [
        "memory = ConversationBufferMemory(\n",
        "    memory_key=\"chat_history\",\n",
        "    human_prefix=\"### Input\",\n",
        "    ai_prefix=\"### Response\",\n",
        "    output_key=\"answer\",\n",
        "    return_messages=True\n",
        ")"
      ],
      "metadata": {
        "id": "lk-ZWSVELSyl"
      },
      "execution_count": 40,
      "outputs": []
    },
    {
      "cell_type": "code",
      "source": [
        "chain = ConversationalRetrievalChain.from_llm(\n",
        "    llm,\n",
        "    chain_type=\"stuff\",\n",
        "    retriever=db.as_retriever(),\n",
        "    memory=memory,\n",
        "    combine_docs_chain_kwargs={\"prompt\": prompt},\n",
        "    return_source_documents=True,\n",
        "    verbose=True,\n",
        ")"
      ],
      "metadata": {
        "id": "HK394doUMeGB"
      },
      "execution_count": 41,
      "outputs": []
    },
    {
      "cell_type": "code",
      "source": [
        "question = \"How to search flights?\"\n",
        "answer = chain(question)"
      ],
      "metadata": {
        "colab": {
          "base_uri": "https://localhost:8080/"
        },
        "id": "IoKsrucBRLnb",
        "outputId": "da88a741-f65c-46e0-92f9-87edcdf40d62"
      },
      "execution_count": 42,
      "outputs": [
        {
          "output_type": "stream",
          "name": "stdout",
          "text": [
            "\n",
            "\n",
            "\u001b[1m> Entering new  chain...\u001b[0m\n",
            "\n",
            "\n",
            "\u001b[1m> Entering new  chain...\u001b[0m\n",
            "Prompt after formatting:\n",
            "\u001b[32;1m\u001b[1;3m### Instruction: You're a travelling support agent that is talking to a customer. Use only the chat history and the following information \n",
            "Q: How do I search for flights on Skyscanner? A: We know you're looking for the best prices and maximum flexibility to choose the right flight.\n",
            "\n",
            "To start your search, click here to head back to Skyscanner's search pages. Enter the departure country, city or airport in the From text field, the destination country, city or airport in the To text field and your travel dates in the Depart and Return text fields, and click Search. A list of flights will appear.\n",
            "\n",
            "When you've seen a suitable flight for your needs, you can click on Select, and we'll show you a list of airlines and travel agencies so you can book directly with them.\n",
            "\n",
            "Smart search filters, such as number of stops and departure time, help you find the perfect flight. Plus, we've got many tips and tricks to help you save more. Please visit our Travel Blog page to find out more.\n",
            "\n",
            "You can search flexible or specific dates on Skyscanner to find your preferred flight, and when you select a flight on Skyscanner you are transferred to the website where you will make and pay for your booking. Once you are redirected to the airline or travel agent website, you might be required to select dates again, depending on the website. In all cases, you will be shown the flight details of your selection and you are required before confirming payment to state that you have checked all details and agreed to the terms and conditions. We strongly recommend that you always check this information carefully, as travel information can be subject to change.\n",
            "\n",
            "Q: I booked the wrong dates / times A: If you have found that you have booked the wrong dates or times, please contact the airline or travel agent that you booked your flight with as they will be able to help you change your flights to the intended dates or times.\n",
            "\n",
            "The search box below can help you find the contact details for the travel provider you booked with.\n",
            "to answer in a helpful manner to the question. If you don't know the answer - say that you don't know.\n",
            "Kepp your replies, short, compassionate and informative.\n",
            "\n",
            "### Input: How to search flights?\n",
            "### Response:\u001b[0m\n",
            "To search for flights on Skyscanner, follow these steps:\n",
            "1. Click \"Search\" at the top of the page.\n",
            "2. Enter your departure location, arrival location, and travel dates in the respective fields.\n",
            "3. Click \"Search\".\n",
            "4. Browse through the available options and select one that suits your needs.\n",
            "5. Review the details and price before proceeding to book.\n",
            "\n",
            "\u001b[1m> Finished chain.\u001b[0m\n",
            "\n",
            "\u001b[1m> Finished chain.\u001b[0m\n"
          ]
        }
      ]
    },
    {
      "cell_type": "code",
      "source": [
        "answer.keys()"
      ],
      "metadata": {
        "colab": {
          "base_uri": "https://localhost:8080/"
        },
        "id": "t6FTbGf4S_n4",
        "outputId": "fe4eb027-0393-4d71-c1e1-2f171bd7824f"
      },
      "execution_count": 43,
      "outputs": [
        {
          "output_type": "execute_result",
          "data": {
            "text/plain": [
              "dict_keys(['question', 'chat_history', 'answer', 'source_documents'])"
            ]
          },
          "metadata": {},
          "execution_count": 43
        }
      ]
    },
    {
      "cell_type": "code",
      "source": [
        "answer[\"source_documents\"]"
      ],
      "metadata": {
        "colab": {
          "base_uri": "https://localhost:8080/"
        },
        "id": "IyeHBFc_TQqo",
        "outputId": "f94cc739-6669-426a-88da-62bba905dcca"
      },
      "execution_count": 44,
      "outputs": [
        {
          "output_type": "execute_result",
          "data": {
            "text/plain": [
              "[Document(page_content=\"Q: How do I search for flights on Skyscanner? A: We know you're looking for the best prices and maximum flexibility to choose the right flight.\\n\\nTo start your search, click here to head back to Skyscanner's search pages. Enter the departure country, city or airport in the From text field, the destination country, city or airport in the To text field and your travel dates in the Depart and Return text fields, and click Search. A list of flights will appear.\", metadata={'source': 'skyscanner/question_1.txt'}),\n",
              " Document(page_content=\"When you've seen a suitable flight for your needs, you can click on Select, and we'll show you a list of airlines and travel agencies so you can book directly with them.\\n\\nSmart search filters, such as number of stops and departure time, help you find the perfect flight. Plus, we've got many tips and tricks to help you save more. Please visit our Travel Blog page to find out more.\", metadata={'source': 'skyscanner/question_1.txt'}),\n",
              " Document(page_content='You can search flexible or specific dates on Skyscanner to find your preferred flight, and when you select a flight on Skyscanner you are transferred to the website where you will make and pay for your booking. Once you are redirected to the airline or travel agent website, you might be required to select dates again, depending on the website. In all cases, you will be shown the flight details of your selection and you are required before confirming payment to state that you have checked all details and agreed to the terms and conditions. We strongly recommend that you always check this information carefully, as travel information can be subject to change.', metadata={'source': 'skyscanner/question_6.txt'}),\n",
              " Document(page_content='Q: I booked the wrong dates / times A: If you have found that you have booked the wrong dates or times, please contact the airline or travel agent that you booked your flight with as they will be able to help you change your flights to the intended dates or times.\\n\\nThe search box below can help you find the contact details for the travel provider you booked with.', metadata={'source': 'skyscanner/question_6.txt'})]"
            ]
          },
          "metadata": {},
          "execution_count": 44
        }
      ]
    },
    {
      "cell_type": "code",
      "source": [
        "question = \"I bought flight tickets, but I can't find any confirmation. Where is it?\"\n",
        "answer = chain(question)"
      ],
      "metadata": {
        "colab": {
          "base_uri": "https://localhost:8080/"
        },
        "id": "rq2vqbqlTo0i",
        "outputId": "47f68ca3-6351-446c-be38-70f3e5d00d00"
      },
      "execution_count": 45,
      "outputs": [
        {
          "output_type": "stream",
          "name": "stdout",
          "text": [
            "\n",
            "\n",
            "\u001b[1m> Entering new  chain...\u001b[0m\n",
            "Prompt after formatting:\n",
            "\u001b[32;1m\u001b[1;3mGiven the following conversation and a follow up question, rephrase the follow up question to be a standalone question, in its original language.\n",
            "\n",
            "Chat History:\n",
            "\n",
            "Human: How to search flights?\n",
            "Assistant: To search for flights on Skyscanner, follow these steps:\n",
            "1. Click \"Search\" at the top of the page.\n",
            "2. Enter your departure location, arrival location, and travel dates in the respective fields.\n",
            "3. Click \"Search\".\n",
            "4. Browse through the available options and select one that suits your needs.\n",
            "5. Review the details and price before proceeding to book.\n",
            "Follow Up Input: I bought flight tickets, but I can't find any confirmation. Where is it?\n",
            "Standalone question:\u001b[0m\n",
            "Can you help me locate my flight ticket confirmation?\n",
            "\n",
            "\u001b[1m> Finished chain.\u001b[0m\n",
            "\n",
            "\n",
            "\u001b[1m> Entering new  chain...\u001b[0m\n",
            "\n",
            "\n",
            "\u001b[1m> Entering new  chain...\u001b[0m\n",
            "Prompt after formatting:\n",
            "\u001b[32;1m\u001b[1;3m### Instruction: You're a travelling support agent that is talking to a customer. Use only the chat history and the following information \n",
            "Q: Where is my booking confirmation? A: You should get a booking confirmation by email from the company you bought your travel from. This can sometimes go into your spam/junk mail folder so it's always worth checking there.\n",
            "\n",
            "If you still can't find it, it's worth getting in touch with the company you bought from to find out what's going on.\n",
            "\n",
            "To find out who you need to contact, check the company name next to the charge on your bank account.\n",
            "\n",
            "Q: I booked the wrong dates / times A: If you have found that you have booked the wrong dates or times, please contact the airline or travel agent that you booked your flight with as they will be able to help you change your flights to the intended dates or times.\n",
            "\n",
            "The search box below can help you find the contact details for the travel provider you booked with.\n",
            "\n",
            "You can search flexible or specific dates on Skyscanner to find your preferred flight, and when you select a flight on Skyscanner you are transferred to the website where you will make and pay for your booking. Once you are redirected to the airline or travel agent website, you might be required to select dates again, depending on the website. In all cases, you will be shown the flight details of your selection and you are required before confirming payment to state that you have checked all details and agreed to the terms and conditions. We strongly recommend that you always check this information carefully, as travel information can be subject to change.\n",
            "\n",
            "When you've seen a suitable flight for your needs, you can click on Select, and we'll show you a list of airlines and travel agencies so you can book directly with them.\n",
            "\n",
            "Smart search filters, such as number of stops and departure time, help you find the perfect flight. Plus, we've got many tips and tricks to help you save more. Please visit our Travel Blog page to find out more.\n",
            "to answer in a helpful manner to the question. If you don't know the answer - say that you don't know.\n",
            "Kepp your replies, short, compassionate and informative.\n",
            "\n",
            "Human: How to search flights?\n",
            "Assistant: To search for flights on Skyscanner, follow these steps:\n",
            "1. Click \"Search\" at the top of the page.\n",
            "2. Enter your departure location, arrival location, and travel dates in the respective fields.\n",
            "3. Click \"Search\".\n",
            "4. Browse through the available options and select one that suits your needs.\n",
            "5. Review the details and price before proceeding to book.\n",
            "### Input:  Can you help me locate my flight ticket confirmation?\n",
            "### Response:\u001b[0m\n",
            "Sure! Here's how you can locate your flight ticket confirmation:\n",
            "1. Check your email inbox and spam/junk folders for an email from the travel company you purchased your tickets from.\n",
            "2. If you still cannot find it, try reaching out to the same company via their customer service channels for assistance.\n",
            "3. To find the right company to reach out to, look up the transaction on your bank statement and identify the company name associated with the charge.\n",
            "\n",
            "\u001b[1m> Finished chain.\u001b[0m\n",
            "\n",
            "\u001b[1m> Finished chain.\u001b[0m\n"
          ]
        }
      ]
    },
    {
      "cell_type": "markdown",
      "source": [
        "#**QA Chain With Memory**"
      ],
      "metadata": {
        "id": "b_kXT0k9VYaU"
      }
    },
    {
      "cell_type": "code",
      "source": [
        "memory = ConversationBufferMemory(\n",
        "    memory_key=\"chat_history\",\n",
        "    human_prefix=\"### Input\",\n",
        "    ai_prefix=\"### Response\",\n",
        "    input_key=\"question\",\n",
        "    output_key=\"output_text\",\n",
        "    return_messages=False,\n",
        ")\n",
        "\n",
        "chain = load_qa_chain(\n",
        "    llm, chain_type=\"stuff\", prompt=prompt, memory=memory, verbose=True\n",
        ")"
      ],
      "metadata": {
        "id": "MM1Yw3CLVliP"
      },
      "execution_count": 46,
      "outputs": []
    },
    {
      "cell_type": "code",
      "source": [
        "question = \"How flight search works?\"\n",
        "docs = db.similarity_search(question)\n",
        "answer = chain.run({\"input_documents\": docs, \"question\": question})\n"
      ],
      "metadata": {
        "colab": {
          "base_uri": "https://localhost:8080/"
        },
        "id": "5IRkl8M4V6Sz",
        "outputId": "71a0d413-336e-4149-dfdb-a415e84a0e71"
      },
      "execution_count": 47,
      "outputs": [
        {
          "output_type": "stream",
          "name": "stdout",
          "text": [
            "\n",
            "\n",
            "\u001b[1m> Entering new  chain...\u001b[0m\n",
            "\n",
            "\n",
            "\u001b[1m> Entering new  chain...\u001b[0m\n",
            "Prompt after formatting:\n",
            "\u001b[32;1m\u001b[1;3m### Instruction: You're a travelling support agent that is talking to a customer. Use only the chat history and the following information \n",
            "Q: How do I search for flights on Skyscanner? A: We know you're looking for the best prices and maximum flexibility to choose the right flight.\n",
            "\n",
            "To start your search, click here to head back to Skyscanner's search pages. Enter the departure country, city or airport in the From text field, the destination country, city or airport in the To text field and your travel dates in the Depart and Return text fields, and click Search. A list of flights will appear.\n",
            "\n",
            "When you've seen a suitable flight for your needs, you can click on Select, and we'll show you a list of airlines and travel agencies so you can book directly with them.\n",
            "\n",
            "Smart search filters, such as number of stops and departure time, help you find the perfect flight. Plus, we've got many tips and tricks to help you save more. Please visit our Travel Blog page to find out more.\n",
            "\n",
            "You can search flexible or specific dates on Skyscanner to find your preferred flight, and when you select a flight on Skyscanner you are transferred to the website where you will make and pay for your booking. Once you are redirected to the airline or travel agent website, you might be required to select dates again, depending on the website. In all cases, you will be shown the flight details of your selection and you are required before confirming payment to state that you have checked all details and agreed to the terms and conditions. We strongly recommend that you always check this information carefully, as travel information can be subject to change.\n",
            "\n",
            "Q: Why does the price sometimes change when I am redirected to a flight provider? A: Flight prices and availability change constantly, so we make sure the data is updated regularly to reflect this. When you redirect to a travel provider’s site, the price is updated again so you can be sure that you will always see the best price available from the airline or travel agent at time of booking.\n",
            "to answer in a helpful manner to the question. If you don't know the answer - say that you don't know.\n",
            "Kepp your replies, short, compassionate and informative.\n",
            "\n",
            "### Input: How flight search works?\n",
            "### Response:\u001b[0m\n",
            "Skyscanner helps you find the cheapest flights by comparing hundreds of airlines and travel agents. Start by selecting your departure and arrival cities, then enter your travel dates. Our smart search filters allow you to choose the number of stops, departure times, and other preferences. Click \"Search\" and browse through the available options. When you find a suitable flight, click \"Select,\" and we'll direct you to the airline or travel agent's website to complete your booking.\n",
            "\n",
            "\u001b[1m> Finished chain.\u001b[0m\n",
            "\n",
            "\u001b[1m> Finished chain.\u001b[0m\n"
          ]
        }
      ]
    },
    {
      "cell_type": "code",
      "source": [
        "question = \"I entered wrong email address during my flight booking. What should I do?\"\n",
        "docs = db.similarity_search(question)\n",
        "answer = chain.run({\"input_documents\": docs, \"question\": question})"
      ],
      "metadata": {
        "colab": {
          "base_uri": "https://localhost:8080/"
        },
        "id": "wSsgmDIeWEr0",
        "outputId": "76053989-5997-4fe1-f8a9-8dc16a0ecddf"
      },
      "execution_count": 48,
      "outputs": [
        {
          "output_type": "stream",
          "name": "stdout",
          "text": [
            "\n",
            "\n",
            "\u001b[1m> Entering new  chain...\u001b[0m\n",
            "\n",
            "\n",
            "\u001b[1m> Entering new  chain...\u001b[0m\n",
            "Prompt after formatting:\n",
            "\u001b[32;1m\u001b[1;3m### Instruction: You're a travelling support agent that is talking to a customer. Use only the chat history and the following information \n",
            "Q: I entered the wrong email address A: If you made a mistake with your email address when booking, you'll need to get in touch with the company you bought travel from as they'll be able to help.\n",
            "\n",
            "Q: I booked the wrong dates / times A: If you have found that you have booked the wrong dates or times, please contact the airline or travel agent that you booked your flight with as they will be able to help you change your flights to the intended dates or times.\n",
            "\n",
            "The search box below can help you find the contact details for the travel provider you booked with.\n",
            "\n",
            "Q: Where is my booking confirmation? A: You should get a booking confirmation by email from the company you bought your travel from. This can sometimes go into your spam/junk mail folder so it's always worth checking there.\n",
            "\n",
            "If you still can't find it, it's worth getting in touch with the company you bought from to find out what's going on.\n",
            "\n",
            "To find out who you need to contact, check the company name next to the charge on your bank account.\n",
            "\n",
            "Q: How do I change or cancel my booking? A: For all questions about changes, cancellations, and refunds – as well as all other questions about bookings – you'll need to contact the company you bought travel from. They'll have all the info about your booking and can advise you.\n",
            "to answer in a helpful manner to the question. If you don't know the answer - say that you don't know.\n",
            "Kepp your replies, short, compassionate and informative.\n",
            "### Input: How flight search works?\n",
            "### Response: Skyscanner helps you find the cheapest flights by comparing hundreds of airlines and travel agents. Start by selecting your departure and arrival cities, then enter your travel dates. Our smart search filters allow you to choose the number of stops, departure times, and other preferences. Click \"Search\" and browse through the available options. When you find a suitable flight, click \"Select,\" and we'll direct you to the airline or travel agent's website to complete your booking.\n",
            "### Input: I entered wrong email address during my flight booking. What should I do?\n",
            "### Response:\u001b[0m\n",
            "Contact the company you booked your flight with as they will be able to assist you in changing your email address.\n",
            "\n",
            "\u001b[1m> Finished chain.\u001b[0m\n",
            "\n",
            "\u001b[1m> Finished chain.\u001b[0m\n"
          ]
        }
      ]
    },
    {
      "cell_type": "code",
      "source": [
        "print(answer.strip())"
      ],
      "metadata": {
        "colab": {
          "base_uri": "https://localhost:8080/"
        },
        "id": "uFW-zhOhWrzy",
        "outputId": "05cd7026-535f-459e-d27e-97c910884ca9"
      },
      "execution_count": 49,
      "outputs": [
        {
          "output_type": "stream",
          "name": "stdout",
          "text": [
            "Contact the company you booked your flight with as they will be able to assist you in changing your email address.\n"
          ]
        }
      ]
    },
    {
      "cell_type": "markdown",
      "source": [
        "#***Customer Support Chatbot***"
      ],
      "metadata": {
        "id": "HPmkiyzWWx-c"
      }
    },
    {
      "cell_type": "code",
      "source": [
        "DEFAULT_TEMPLATE = \"\"\"\n",
        "### Instruction: You're a travelling support agent that is talking to a customer. Use only the chat history and the following information\n",
        "{context}\n",
        "to answer in a helpful manner to the question. If you don't know the answer - say that you don't know.\n",
        "Keep your replies short, compassionate and informative.\n",
        "{chat_history}\n",
        "### Input: {question}\n",
        "### Response:\n",
        "\"\"\".strip()\n",
        "\n",
        "\n",
        "class Chatbot:\n",
        "    def __init__(\n",
        "        self,\n",
        "        text_pipeline: HuggingFacePipeline,\n",
        "        embeddings: HuggingFaceEmbeddings,\n",
        "        documents_dir: Path,\n",
        "        prompt_template: str = DEFAULT_TEMPLATE,\n",
        "        verbose: bool = False,\n",
        "    ):\n",
        "        prompt = PromptTemplate(\n",
        "            input_variables=[\"context\", \"question\", \"chat_history\"],\n",
        "            template=prompt_template,\n",
        "        )\n",
        "        self.chain = self._create_chain(text_pipeline, prompt, verbose)\n",
        "        self.db = self._embed_data(documents_dir, embeddings)\n",
        "\n",
        "    def _create_chain(\n",
        "        self,\n",
        "        text_pipeline: HuggingFacePipeline,\n",
        "        prompt: PromptTemplate,\n",
        "        verbose: bool = False,\n",
        "    ):\n",
        "        memory = ConversationBufferMemory(\n",
        "            memory_key=\"chat_history\",\n",
        "            human_prefix=\"### Input\",\n",
        "            ai_prefix=\"### Response\",\n",
        "            input_key=\"question\",\n",
        "            output_key=\"output_text\",\n",
        "            return_messages=False,\n",
        "        )\n",
        "\n",
        "        return load_qa_chain(\n",
        "            text_pipeline,\n",
        "            chain_type=\"stuff\",\n",
        "            prompt=prompt,\n",
        "            memory=memory,\n",
        "            verbose=verbose,\n",
        "        )\n",
        "\n",
        "    def _embed_data(\n",
        "        self, documents_dir: Path, embeddings: HuggingFaceEmbeddings\n",
        "    ) -> Chroma:\n",
        "        loader = DirectoryLoader(documents_dir, glob=\"**/*txt\")\n",
        "        documents = loader.load()\n",
        "        text_splitter = CharacterTextSplitter(chunk_size=512, chunk_overlap=0)\n",
        "        texts = text_splitter.split_documents(documents)\n",
        "        return Chroma.from_documents(texts, embeddings)\n",
        "\n",
        "    def __call__(self, user_input: str) -> str:\n",
        "        docs = self.db.similarity_search(user_input)\n",
        "        return self.chain.run({\"input_documents\": docs, \"question\": user_input})\n",
        "\n",
        ""
      ],
      "metadata": {
        "id": "OpylOsitWtEX"
      },
      "execution_count": 50,
      "outputs": []
    },
    {
      "cell_type": "code",
      "source": [
        "chatbot = Chatbot(llm, embeddings, \"./skyscanner/\")"
      ],
      "metadata": {
        "id": "_02QPWdPXBwl"
      },
      "execution_count": 51,
      "outputs": []
    },
    {
      "cell_type": "code",
      "source": [
        "import warnings\n",
        "\n",
        "warnings.filterwarnings(\"ignore\", category=UserWarning)\n",
        "\n",
        "print(\"\"\"Hi, I am a Sky!\n",
        "Skyscanner customer support chatbot. How can I help you?\"\"\")\n",
        "while True:\n",
        "    user_input = input(\"You: \")\n",
        "    if user_input.lower() in [\"bye\", \"goodbye\"]:\n",
        "        break\n",
        "    answer = chatbot(user_input)\n",
        "    print()"
      ],
      "metadata": {
        "colab": {
          "base_uri": "https://localhost:8080/"
        },
        "id": "meLsWNRKXEgD",
        "outputId": "b575fe78-d9ac-4807-b485-b39f59bbac19"
      },
      "execution_count": 58,
      "outputs": [
        {
          "name": "stdout",
          "output_type": "stream",
          "text": [
            "Hi, I am a Sky! \n",
            "Skyscanner customer support chatbot. How can I help you?\n",
            "You: I am new to this site. How can I search for a fligh?\n",
            "Welcome to our website! To search for a flight, simply enter your desired destination and dates in the search bar above. From there, you can choose your preferred departure times, stopovers or non-stop options, and airline carriers. Once you've found a suitable flight, just click 'Select' and you'll be directed to the booking page where you can complete your purchase with the chosen partner. Don't hesitate to let me know if you need further assistance along the way.\n",
            "\n",
            "You: I previously booked a flight but I forgot from which travel site I booked. How can i know that?\n",
            "It seems like you might have booked through one of our partners. Could you provide me with more information such as the date of your trip or the airport you are departing from? With that information, I could look up your booking and tell you which partner you used to make the reservation.\n",
            "\n",
            "You: I have issues with refund om my cancelled ticket\n",
            "I apologize for any inconvenience caused by the cancellation process. Please contact the travel agency or airline directly that you purchased the ticket from, as they would be better equipped to handle refund requests. They should be able to guide you through their specific policies and procedures regarding refunds.\n",
            "\n",
            "You: Thank you. bye\n",
            "You're welcome! Have a great day!\n",
            "\n",
            "You: goodbye\n"
          ]
        }
      ]
    }
  ]
}